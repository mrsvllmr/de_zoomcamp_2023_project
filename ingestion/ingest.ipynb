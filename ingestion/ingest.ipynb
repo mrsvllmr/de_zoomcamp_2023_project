{
 "cells": [
  {
   "cell_type": "code",
   "execution_count": null,
   "metadata": {},
   "outputs": [],
   "source": [
    "import requests"
   ]
  },
  {
   "cell_type": "code",
   "execution_count": null,
   "metadata": {},
   "outputs": [],
   "source": [
    "import requests\n",
    "import pandas as pd\n",
    "import pyarrow as pa\n",
    "import pyarrow.parquet as pq\n",
    "\n",
    "url = \"https://ghoapi.azureedge.net/api/Dimension\"\n",
    "\n",
    "response = requests.get(url)\n",
    "\n",
    "if response.status_code == 200:\n",
    "    data = response.json()\n",
    "    df = pd.json_normalize(data)  # Convert JSON data to a Pandas DataFrame\n",
    "    table = pa.Table.from_pandas(df)  # Convert the DataFrame to an Arrow Table\n",
    "    pq.write_table(table, 'data.parquet')  # Write the Arrow Table to a Parquet file\n",
    "else:\n",
    "    print(\"Error retrieving data from API\")\n"
   ]
  },
  {
   "cell_type": "code",
   "execution_count": null,
   "metadata": {},
   "outputs": [],
   "source": [
    "print(data)"
   ]
  }
 ],
 "metadata": {
  "language_info": {
   "name": "python"
  },
  "orig_nbformat": 4
 },
 "nbformat": 4,
 "nbformat_minor": 2
}
