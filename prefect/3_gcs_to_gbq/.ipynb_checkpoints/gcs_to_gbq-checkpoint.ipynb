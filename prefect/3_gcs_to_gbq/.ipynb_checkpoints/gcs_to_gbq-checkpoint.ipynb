{
 "cells": [
  {
   "cell_type": "code",
   "execution_count": 130,
   "id": "51b136ec",
   "metadata": {},
   "outputs": [],
   "source": [
    "import pandas as pd\n",
    "from google.cloud import storage\n",
    "import io\n",
    "import json"
   ]
  },
  {
   "cell_type": "code",
   "execution_count": 131,
   "id": "5f8eee7c",
   "metadata": {},
   "outputs": [],
   "source": [
    "# Set up the GCS client\n",
    "client = storage.Client()"
   ]
  },
  {
   "cell_type": "code",
   "execution_count": 132,
   "id": "31b3e5d1",
   "metadata": {},
   "outputs": [],
   "source": [
    "# Set the GCS bucket and file names\n",
    "bucket_name = 'de-zoomcamp-2023-project-datalake-bucket_bright-aloe-381618'\n",
    "blob_name = 'data/ingest_20230406.json'"
   ]
  },
  {
   "cell_type": "code",
   "execution_count": 133,
   "id": "c2ba8ae7",
   "metadata": {},
   "outputs": [],
   "source": [
    "# Get a handle to the GCS bucket and file\n",
    "bucket = client.bucket(bucket_name)\n",
    "blob = bucket.blob(blob_name)"
   ]
  },
  {
   "cell_type": "code",
   "execution_count": 134,
   "id": "ac5ba9cd",
   "metadata": {},
   "outputs": [],
   "source": [
    "# Download the file contents to a BytesIO object\n",
    "bytes_io = io.BytesIO()\n",
    "blob.download_to_file(bytes_io)\n",
    "# Reset the BytesIO object to the beginning of the stream\n",
    "bytes_io.seek(0)\n",
    "# Open the BytesIO object in binary mode\n",
    "binary_io = io.BufferedReader(bytes_io)\n",
    "# Load the contents of the file into a Pandas DataFrame\n",
    "df = pd.json_normalize(json.loads(bytes_io.read().decode()))"
   ]
  },
  {
   "cell_type": "code",
   "execution_count": 135,
   "id": "ef1e8be4",
   "metadata": {},
   "outputs": [
    {
     "name": "stdout",
     "output_type": "stream",
     "text": [
      "      cases  deaths  recovered  weekIncidence  casesPer100k  casesPerWeek  \\\n",
      "0  38366479  171279   38110412      20.954592   46092.98971         17442   \n",
      "\n",
      "   deathsPerWeek  delta.cases  delta.deaths  delta.recovered  ...  \\\n",
      "0             62         3136           110             5927  ...   \n",
      "\n",
      "               r.lastUpdate  hospitalization.cases7Days  \\\n",
      "0  2023-04-06T02:55:41.000Z                        3646   \n",
      "\n",
      "   hospitalization.incidence7Days      hospitalization.date  \\\n",
      "0                            4.38  2023-04-06T00:00:00.000Z   \n",
      "\n",
      "   hospitalization.lastUpdate           meta.source  \\\n",
      "0    2023-04-06T03:05:31.000Z  Robert Koch-Institut   \n",
      "\n",
      "                          meta.contact  \\\n",
      "0  Marlon Lueckert (m.lueckert@me.com)   \n",
      "\n",
      "                                    meta.info           meta.lastUpdate  \\\n",
      "0  https://github.com/marlon360/rki-covid-api  2023-04-06T00:57:18.000Z   \n",
      "\n",
      "  meta.lastCheckedForUpdate  \n",
      "0  2023-04-06T17:36:17.744Z  \n",
      "\n",
      "[1 rows x 26 columns]\n"
     ]
    }
   ],
   "source": [
    "print(df.head())"
   ]
  },
  {
   "cell_type": "code",
   "execution_count": 136,
   "id": "0f1de6da",
   "metadata": {},
   "outputs": [],
   "source": [
    "df = df.rename(columns={\n",
    "    'cases': 'cases',\n",
    "    'deaths': 'deaths',\n",
    "    'recovered': 'recovered',\n",
    "    'weekIncidence': 'weekIncidence',\n",
    "    'casesPer100k': 'casesPer100k',\n",
    "    'casesPerWeek': 'casesPerWeek',\n",
    "    'deathsPerWeek': 'deathsPerWeek',\n",
    "    'delta.cases': 'delta_cases',\n",
    "    'delta.deaths': 'delta_deaths',\n",
    "    'delta.recovered': 'delta_recovered',\n",
    "    'delta.weekIncidence': 'delta_weekIncidence',\n",
    "    'r.value': 'r_value',\n",
    "    'r.rValue4Days.value': 'r_rValue4Days_value',\n",
    "    'r.rValue4Days.date': 'r_rValue4Days_date',\n",
    "    'r.rValue7Days.value': 'r_rValue7Days_value',\n",
    "    'r.rValue7Days.date': 'r_rValue7Days_date',\n",
    "    'r.lastUpdate': 'r_lastUpdate',\n",
    "    'hospitalization.cases7Days': 'hospitalization_cases7Days',\n",
    "    'hospitalization.incidence7Days': 'hospitalization_incidence7Days',\n",
    "    'hospitalization.date': 'hospitalization_date',\n",
    "    'hospitalization.lastUpdate': 'hospitalization_lastUpdate',\n",
    "    'meta.source': 'meta_source',\n",
    "    'meta.contact': 'meta_contact',\n",
    "    'meta.info': 'meta_info',\n",
    "    'meta.lastUpdate': 'meta_lastUpdate',\n",
    "    'meta.lastCheckedForUpdate': 'meta_lastCheckedForUpdate'\n",
    "})\n"
   ]
  },
  {
   "cell_type": "code",
   "execution_count": 137,
   "id": "01789e95",
   "metadata": {},
   "outputs": [
    {
     "name": "stdout",
     "output_type": "stream",
     "text": [
      "cases                               int64\n",
      "deaths                              int64\n",
      "recovered                           int64\n",
      "weekIncidence                     float64\n",
      "casesPer100k                      float64\n",
      "casesPerWeek                        int64\n",
      "deathsPerWeek                       int64\n",
      "delta_cases                         int64\n",
      "delta_deaths                        int64\n",
      "delta_recovered                     int64\n",
      "delta_weekIncidence               float64\n",
      "r_value                           float64\n",
      "r_rValue4Days_value               float64\n",
      "r_rValue4Days_date                 object\n",
      "r_rValue7Days_value               float64\n",
      "r_rValue7Days_date                 object\n",
      "r_lastUpdate                       object\n",
      "hospitalization_cases7Days          int64\n",
      "hospitalization_incidence7Days    float64\n",
      "hospitalization_date               object\n",
      "hospitalization_lastUpdate         object\n",
      "meta_source                        object\n",
      "meta_contact                       object\n",
      "meta_info                          object\n",
      "meta_lastUpdate                    object\n",
      "meta_lastCheckedForUpdate          object\n",
      "dtype: object\n"
     ]
    }
   ],
   "source": [
    "print(df.dtypes)"
   ]
  },
  {
   "cell_type": "code",
   "execution_count": 148,
   "id": "0ab290b0",
   "metadata": {},
   "outputs": [],
   "source": [
    "# Set the BigQuery dataset and table names\n",
    "project_id = 'bright-aloe-381618'\n",
    "dataset_id = 'de_zoomcamp_2023_project_dataset'\n",
    "table_id = 'covid_figures_germany'\n",
    "destination_table = 'bright-aloe-381618.de_zoomcamp_2023_project_dataset.covid_figures_germany'\n",
    "# Load the Pandas DataFrame to a BigQuery table\n",
    "df.to_gbq(destination_table=f\"{project_id}.{table_id}\",\n",
    "             project_id=project_id,\n",
    "             if_exists='append')"
   ]
  }
 ],
 "metadata": {
  "kernelspec": {
   "display_name": "Python 3 (ipykernel)",
   "language": "python",
   "name": "python3"
  },
  "language_info": {
   "codemirror_mode": {
    "name": "ipython",
    "version": 3
   },
   "file_extension": ".py",
   "mimetype": "text/x-python",
   "name": "python",
   "nbconvert_exporter": "python",
   "pygments_lexer": "ipython3",
   "version": "3.9.16"
  }
 },
 "nbformat": 4,
 "nbformat_minor": 5
}
