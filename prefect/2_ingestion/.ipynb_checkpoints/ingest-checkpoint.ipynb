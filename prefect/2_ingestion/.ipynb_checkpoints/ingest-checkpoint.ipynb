{
 "cells": [
  {
   "cell_type": "code",
   "execution_count": 1,
   "metadata": {},
   "outputs": [],
   "source": [
    "import requests"
   ]
  },
  {
   "cell_type": "code",
   "execution_count": 11,
   "metadata": {},
   "outputs": [],
   "source": [
    "import requests\n",
    "import pandas as pd\n",
    "import pyarrow as pa\n",
    "import pyarrow.parquet as pq\n",
    "import json\n",
    "\n",
    "url = \"https://api.corona-zahlen.org/germany\"\n",
    "\n",
    "response = requests.get(url)\n",
    "\n",
    "if response.status_code == 200:\n",
    "    data = response.json()\n",
    "    formatted_data = json.dumps(data, indent=4)\n",
    "    \n",
    "    #following lines are currently commented out as I am going to save the json output as is\n",
    "    #the usage of parquet files is one of the next possible steps to optimize this project and extend the skills\n",
    "    \n",
    "    #df = pd.json_normalize(data)  # Convert JSON data to a Pandas DataFrame\n",
    "    #table = pa.Table.from_pandas(df)  # Convert the DataFrame to an Arrow Table\n",
    "    #pq.write_table(table, 'data/ingest_test.parquet')  # Write the Arrow Table to a Parquet file\n",
    "    \n",
    "else:\n",
    "    print(\"Error retrieving data from API\")"
   ]
  },
  {
   "cell_type": "code",
   "execution_count": 13,
   "metadata": {},
   "outputs": [
    {
     "name": "stdout",
     "output_type": "stream",
     "text": [
      "{\n",
      "    \"cases\": 38354626,\n",
      "    \"deaths\": 170964,\n",
      "    \"recovered\": 38079793,\n",
      "    \"weekIncidence\": 26.292354839170077,\n",
      "    \"casesPer100k\": 46078.74966943836,\n",
      "    \"casesPerWeek\": 21885,\n",
      "    \"deathsPerWeek\": 78,\n",
      "    \"delta\": {\n",
      "        \"cases\": 2984,\n",
      "        \"deaths\": 125,\n",
      "        \"recovered\": 1490,\n",
      "        \"weekIncidence\": 2.99986337827\n",
      "    },\n",
      "    \"r\": {\n",
      "        \"value\": 0.7,\n",
      "        \"rValue4Days\": {\n",
      "            \"value\": 0.7,\n",
      "            \"date\": \"2023-04-01T00:00:00.000Z\"\n",
      "        },\n",
      "        \"rValue7Days\": {\n",
      "            \"value\": 0.82,\n",
      "            \"date\": \"2023-03-31T00:00:00.000Z\"\n",
      "        },\n",
      "        \"lastUpdate\": \"2023-04-05T02:51:45.000Z\"\n",
      "    },\n",
      "    \"hospitalization\": {\n",
      "        \"cases7Days\": 3678,\n",
      "        \"incidence7Days\": 4.42,\n",
      "        \"date\": \"2023-04-05T00:00:00.000Z\",\n",
      "        \"lastUpdate\": \"2023-04-05T03:05:29.000Z\"\n",
      "    },\n",
      "    \"meta\": {\n",
      "        \"source\": \"Robert Koch-Institut\",\n",
      "        \"contact\": \"Marlon Lueckert (m.lueckert@me.com)\",\n",
      "        \"info\": \"https://github.com/marlon360/rki-covid-api\",\n",
      "        \"lastUpdate\": \"2023-04-05T00:57:20.000Z\",\n",
      "        \"lastCheckedForUpdate\": \"2023-04-05T15:54:45.166Z\"\n",
      "    }\n",
      "}\n"
     ]
    }
   ],
   "source": [
    "# format json to make it easier to read\n",
    "print(formatted_data)"
   ]
  },
  {
   "cell_type": "code",
   "execution_count": 14,
   "metadata": {},
   "outputs": [],
   "source": [
    "# next step: save the json file in the current directory\n",
    "# name it like \"ingest_{currentdate}, date in YYYYMMDD\n",
    "import datetime\n",
    "\n",
    "filename = f\"data/ingest_{datetime.datetime.now().strftime('%Y%m%d')}.json\"\n",
    "\n",
    "with open(filename, 'w') as f:\n",
    "        json.dump(data, f)  # Write the JSON data to a file"
   ]
  },
  {
   "cell_type": "code",
   "execution_count": 17,
   "metadata": {},
   "outputs": [],
   "source": [
    "from google.cloud import storage\n",
    "\n",
    "# Initialize GCS client\n",
    "client = storage.Client()\n",
    "\n",
    "# Define the GCS bucket and object name\n",
    "bucket_name = 'de-zoomcamp-2023-project-datalake-bucket_bright-aloe-381618'\n",
    "object_name = f'data/{filename}'\n",
    "\n",
    "storage_client = storage.Client.from_service_account_json('/home/mrsvllmr/.gc/sa-key-file.json')\n",
    "\n",
    "# Upload the file to GCS\n",
    "bucket = storage_client.bucket(bucket_name)\n",
    "blob = bucket.blob(object_name)\n",
    "blob.upload_from_filename(filename)"
   ]
  }
 ],
 "metadata": {
  "kernelspec": {
   "display_name": "Python 3 (ipykernel)",
   "language": "python",
   "name": "python3"
  },
  "language_info": {
   "codemirror_mode": {
    "name": "ipython",
    "version": 3
   },
   "file_extension": ".py",
   "mimetype": "text/x-python",
   "name": "python",
   "nbconvert_exporter": "python",
   "pygments_lexer": "ipython3",
   "version": "3.9.16"
  }
 },
 "nbformat": 4,
 "nbformat_minor": 2
}
